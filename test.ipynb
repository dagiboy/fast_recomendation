{
 "cells": [
  {
   "cell_type": "code",
   "execution_count": 1,
   "id": "c7bec622-88d4-48d2-8a32-6cec849bc05d",
   "metadata": {
    "tags": []
   },
   "outputs": [],
   "source": [
    "import json\n",
    "from tqdm.auto import tqdm\n",
    "from collections import defaultdict"
   ]
  },
  {
   "cell_type": "code",
   "execution_count": 3,
   "id": "a81f382a-4503-4e69-9bce-c484855fca0b",
   "metadata": {
    "tags": []
   },
   "outputs": [
    {
     "data": {
      "application/vnd.jupyter.widget-view+json": {
       "model_id": "adc9ac932ec748b696cef15c4378d639",
       "version_major": 2,
       "version_minor": 0
      },
      "text/plain": [
       "0it [00:00, ?it/s]"
      ]
     },
     "metadata": {},
     "output_type": "display_data"
    },
    {
     "ename": "KeyboardInterrupt",
     "evalue": "",
     "output_type": "error",
     "traceback": [
      "\u001b[0;31m---------------------------------------------------------------------------\u001b[0m",
      "\u001b[0;31mKeyboardInterrupt\u001b[0m                         Traceback (most recent call last)",
      "\u001b[1;32m/home/aba/progger/fast_recomendation/test.ipynb Cell 2\u001b[0m in \u001b[0;36m<cell line: 3>\u001b[0;34m()\u001b[0m\n\u001b[1;32m      <a href='vscode-notebook-cell:/home/aba/progger/fast_recomendation/test.ipynb#W1sZmlsZQ%3D%3D?line=6'>7</a>\u001b[0m         \u001b[39mfor\u001b[39;00m event \u001b[39min\u001b[39;00m j[\u001b[39m'\u001b[39m\u001b[39mevents\u001b[39m\u001b[39m'\u001b[39m]:\n\u001b[1;32m      <a href='vscode-notebook-cell:/home/aba/progger/fast_recomendation/test.ipynb#W1sZmlsZQ%3D%3D?line=7'>8</a>\u001b[0m             item \u001b[39m=\u001b[39m event[\u001b[39m'\u001b[39m\u001b[39maid\u001b[39m\u001b[39m'\u001b[39m]\n\u001b[0;32m----> <a href='vscode-notebook-cell:/home/aba/progger/fast_recomendation/test.ipynb#W1sZmlsZQ%3D%3D?line=8'>9</a>\u001b[0m             item_to_user[item]\u001b[39m.\u001b[39;49mappend(session)\n\u001b[1;32m     <a href='vscode-notebook-cell:/home/aba/progger/fast_recomendation/test.ipynb#W1sZmlsZQ%3D%3D?line=9'>10</a>\u001b[0m             user_to_item[session]\u001b[39m.\u001b[39mappend(item)\n\u001b[1;32m     <a href='vscode-notebook-cell:/home/aba/progger/fast_recomendation/test.ipynb#W1sZmlsZQ%3D%3D?line=11'>12</a>\u001b[0m item_to_user \u001b[39m=\u001b[39m \u001b[39mdict\u001b[39m(item_to_user)\n",
      "\u001b[0;31mKeyboardInterrupt\u001b[0m: "
     ]
    }
   ],
   "source": [
    "item_to_user = defaultdict(list)\n",
    "user_to_item = defaultdict(list)\n",
    "with open('data/test.jsonl', 'r') as f:\n",
    "    for row in tqdm(f, total=1671803):\n",
    "        j = json.loads(row)\n",
    "        session = j['session']\n",
    "        for event in j['events']:\n",
    "            item = event['aid']\n",
    "            item_to_user[item].append(session)\n",
    "            user_to_item[session].append(item)\n",
    "            \n",
    "item_to_user = dict(item_to_user)\n",
    "user_to_item = dict(user_to_item)"
   ]
  },
  {
   "cell_type": "code",
   "execution_count": 3,
   "id": "b01ba04e-307d-4ef6-b96c-c48b5a5da557",
   "metadata": {
    "tags": []
   },
   "outputs": [
    {
     "data": {
      "application/vnd.jupyter.widget-view+json": {
       "model_id": "eec2533d70664ae6b094acf60a3d93b5",
       "version_major": 2,
       "version_minor": 0
      },
      "text/plain": [
       "  0%|          | 0/783486 [00:00<?, ?it/s]"
      ]
     },
     "metadata": {},
     "output_type": "display_data"
    },
    {
     "data": {
      "application/vnd.jupyter.widget-view+json": {
       "model_id": "445e6811591c47098980d4d1c6f18939",
       "version_major": 2,
       "version_minor": 0
      },
      "text/plain": [
       "  0%|          | 0/1671803 [00:00<?, ?it/s]"
      ]
     },
     "metadata": {},
     "output_type": "display_data"
    }
   ],
   "source": [
    "for item, users in tqdm(item_to_user.items()):\n",
    "    item_to_user[item] = set(users)\n",
    "    \n",
    "for user, items in tqdm(user_to_item.items()):\n",
    "    user_to_item[user] = set(items)"
   ]
  },
  {
   "cell_type": "code",
   "execution_count": 4,
   "id": "77b4134a-fcd2-496a-b3bc-42d83a5f5ab5",
   "metadata": {
    "tags": []
   },
   "outputs": [],
   "source": [
    "def arg_min(l):\n",
    "    cur_min = l[0]\n",
    "    arg = 0\n",
    "    \n",
    "    for i, elem in enumerate(l):\n",
    "        if elem < cur_min:\n",
    "            arg = i\n",
    "            cur_min = elem\n",
    "            \n",
    "    return arg, cur_min"
   ]
  },
  {
   "cell_type": "code",
   "execution_count": 5,
   "id": "6fff8692-7b27-4538-bf3f-da64537ccdf1",
   "metadata": {
    "tags": []
   },
   "outputs": [
    {
     "data": {
      "application/vnd.jupyter.widget-view+json": {
       "model_id": "8d6f8c0fca854f6f80e1814917c77031",
       "version_major": 2,
       "version_minor": 0
      },
      "text/plain": [
       "  0%|          | 0/783486 [00:00<?, ?it/s]"
      ]
     },
     "metadata": {},
     "output_type": "display_data"
    },
    {
     "data": {
      "application/vnd.jupyter.widget-view+json": {
       "model_id": "b37c0c4a9f01461f87f3017d2a58d4ef",
       "version_major": 2,
       "version_minor": 0
      },
      "text/plain": [
       "  0%|          | 0/783486 [00:00<?, ?it/s]"
      ]
     },
     "metadata": {},
     "output_type": "display_data"
    }
   ],
   "source": [
    "class ItemsCollections:\n",
    "    def __init__(self, item_to_user: dict[int, list[int]], user_to_item,  k = 10):\n",
    "        self._item_to_user = item_to_user\n",
    "        self._user_to_item = user_to_item\n",
    "        self._items = list(item_to_user.keys())\n",
    "        \n",
    "        self._top_k = dict()\n",
    "        \n",
    "        self._populest = list()\n",
    "        self._fill_populest(k)\n",
    "            \n",
    "        # self._fill_top_k(k)\n",
    "    \n",
    "    @property\n",
    "    def items(self):\n",
    "        return self._items\n",
    "    \n",
    "    def get_sim(self, item1, item2):\n",
    "        intersection = self._item_to_user[item1].intersection(self._item_to_user[item2])\n",
    "        if len(intersection) == 0:\n",
    "            return 0\n",
    "        \n",
    "        union = self._item_to_user[item1].union(self._item_to_user[item2])\n",
    "        return len(intersection)/len(union)\n",
    "    \n",
    "    def _fill_populest(self, k):\n",
    "        self._populest = [None] * k\n",
    "        m = [0] * k\n",
    "        \n",
    "        cur_min = 0\n",
    "        cur_arg = 0\n",
    "        \n",
    "        for item in tqdm(self._items):\n",
    "            cur_pop = len(self._item_to_user[item])\n",
    "            if cur_pop < cur_min:\n",
    "                continue\n",
    "                \n",
    "            self._populest[cur_arg] = item\n",
    "            m[cur_arg] = cur_pop\n",
    "            cur_arg, cur_min = arg_min(m)\n",
    "    \n",
    "    def _fill_top_k(self, k):\n",
    "        for item1 in tqdm(self._items):\n",
    "            top_sim = [-1] * k\n",
    "            top_item = list(self._populest)\n",
    "            for i, item in enumerate(top_item):\n",
    "                top_sim[i] = self.get_sim(item1, item)\n",
    "            \n",
    "            cur_min = 0\n",
    "            cur_min_i = 0\n",
    "            \n",
    "            processed_items = set([item1])\n",
    "            \n",
    "            for user in self._item_to_user[item1]:\n",
    "                for item2 in self._user_to_item[user]:\n",
    "                    if item2 in processed_items:\n",
    "                        continue\n",
    "                        \n",
    "                    processed_items.add(item2)\n",
    "\n",
    "                    sim = self.get_sim(item1, item2)\n",
    "                    if sim == 0:\n",
    "                        continue\n",
    "\n",
    "                    if sim > cur_min:\n",
    "                        top_sim[cur_min_i] = sim\n",
    "                        top_item[cur_min_i] = item2\n",
    "\n",
    "                        cur_min_i, cur_min = arg_min(top_sim)\n",
    "                    \n",
    "            self._top_k[item1] = set(top_item)\n",
    "    \n",
    "    \n",
    "items = ItemsCollections(item_to_user, user_to_item)\n",
    "#ItemsCollections_top_k = items._top_k\n",
    "items._top_k = ItemsCollections_top_k"
   ]
  },
  {
   "cell_type": "code",
   "execution_count": 71,
   "id": "c23b18ac-b9dd-4b69-9a6a-947e45a65ab3",
   "metadata": {
    "tags": []
   },
   "outputs": [],
   "source": [
    "for user in user_to_item.keys():\n",
    "    if len(user_to_item[user]) == 10:\n",
    "        break"
   ]
  },
  {
   "cell_type": "code",
   "execution_count": 81,
   "id": "8dd9bc41-bc86-44b7-b3ea-381c19b921df",
   "metadata": {},
   "outputs": [
    {
     "name": "stdout",
     "output_type": "stream",
     "text": [
      "CPU times: user 9.94 ms, sys: 0 ns, total: 9.94 ms\n",
      "Wall time: 9.06 ms\n"
     ]
    }
   ],
   "source": [
    "%%time\n",
    "C = set()\n",
    "for hist_item in user_to_item[user]:\n",
    "    C = C.union(items._top_k[hist_item])\n",
    "    \n",
    "C = list(C)\n",
    "sims = [0] * len(C)\n",
    "for i, cand in enumerate(C):\n",
    "    if cand in user_to_item[user]:\n",
    "        continue\n",
    "    \n",
    "    for hist_item in user_to_item[user]:\n",
    "        sims[i] += items.get_sim(hist_item, cand)"
   ]
  }
 ],
 "metadata": {
  "kernelspec": {
   "display_name": "Python 3 (ipykernel)",
   "language": "python",
   "name": "python3"
  },
  "language_info": {
   "codemirror_mode": {
    "name": "ipython",
    "version": 3
   },
   "file_extension": ".py",
   "mimetype": "text/x-python",
   "name": "python",
   "nbconvert_exporter": "python",
   "pygments_lexer": "ipython3",
   "version": "3.10.6"
  }
 },
 "nbformat": 4,
 "nbformat_minor": 5
}
